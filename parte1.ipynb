{
 "cells": [
  {
   "cell_type": "markdown",
   "metadata": {},
   "source": [
    "# Ejercicio 1\n",
    "\n",
    "## TASK 1\n",
    "\n",
    "### Demostracion de P(A) = P(A | B)P(B) + P(A | B')P(B')\n",
    "La ley de la probabilidad total dice que si {B'} es una partición del espacio muestral, entonces para cualquier evento A se cumple que P(A) es la suma de P(A | B')P(B') para todos los i. En nuestro caso, B y B' forman una partición del espacio muestral, por lo que podemos aplicar directamente la ley de la probabilidad total para obtener la igualdad que queremos demostrar:\n"
   ]
  },
  {
   "cell_type": "code",
   "execution_count": 14,
   "metadata": {
    "vscode": {
     "languageId": "latex"
    }
   },
   "outputs": [
    {
     "data": {
      "text/latex": [
       "$\\displaystyle \\text{Ecuación: }P(A) = P(A | B)P(B) + P(A | B')P(B')$"
      ],
      "text/plain": [
       "<IPython.core.display.Math object>"
      ]
     },
     "metadata": {},
     "output_type": "display_data"
    }
   ],
   "source": [
    "from IPython.display import display, Math\n",
    "\n",
    "\n",
    "display(Math(r\"\\text{Ecuación: }P(A) = P(A | B)P(B) + P(A | B')P(B')\"))"
   ]
  },
  {
   "cell_type": "markdown",
   "metadata": {},
   "source": [
    "### Demostración de P(A | B) = P(B | A)P(A) / P(B)\n",
    "Primero, recordamos la definición de la probabilidad condicional, que es"
   ]
  },
  {
   "cell_type": "code",
   "execution_count": 20,
   "metadata": {},
   "outputs": [
    {
     "data": {
      "text/latex": [
       "$\\displaystyle P(A|B) = \\frac{P(A \\cap B)}{P(B)}$"
      ],
      "text/plain": [
       "<IPython.core.display.Math object>"
      ]
     },
     "metadata": {},
     "output_type": "display_data"
    }
   ],
   "source": [
    "\n",
    "display(Math(r\"P(A|B) = \\frac{P(A \\cap B)}{P(B)}\"))\n",
    "\n",
    "\n"
   ]
  },
  {
   "cell_type": "markdown",
   "metadata": {},
   "source": [
    "Reorganizando términos obtenemos una expresión para la probabilidad conjunta de A y B:"
   ]
  },
  {
   "cell_type": "code",
   "execution_count": 21,
   "metadata": {},
   "outputs": [
    {
     "data": {
      "text/latex": [
       "$\\displaystyle P(A \\cap B) = P(A|B) \\cdot P(B)$"
      ],
      "text/plain": [
       "<IPython.core.display.Math object>"
      ]
     },
     "metadata": {},
     "output_type": "display_data"
    }
   ],
   "source": [
    "\n",
    "display(Math(r\"P(A \\cap B) = P(A|B) \\cdot P(B)\"))"
   ]
  },
  {
   "cell_type": "markdown",
   "metadata": {},
   "source": [
    "Pero también podríamos haber empezado con la probabilidad condicional de B dado A y obtenido una expresión diferente para la probabilidad conjunta de A y B:"
   ]
  },
  {
   "cell_type": "code",
   "execution_count": 22,
   "metadata": {},
   "outputs": [
    {
     "data": {
      "text/latex": [
       "$\\displaystyle P(B|A) = \\frac{P(B \\cap A)}{P(A)} \\Rightarrow P(B \\cap A) = P(B|A) \\cdot P(A)$"
      ],
      "text/plain": [
       "<IPython.core.display.Math object>"
      ]
     },
     "metadata": {},
     "output_type": "display_data"
    }
   ],
   "source": [
    "display(Math(r\"P(B|A) = \\frac{P(B \\cap A)}{P(A)} \\Rightarrow P(B \\cap A) = P(B|A) \\cdot P(A)\"))"
   ]
  },
  {
   "cell_type": "markdown",
   "metadata": {},
   "source": [
    "Dado que P(A ∩ B) = P(B ∩ A), podemos igualar estas dos expresiones para la probabilidad conjunta de A y B:"
   ]
  },
  {
   "cell_type": "code",
   "execution_count": 23,
   "metadata": {},
   "outputs": [
    {
     "data": {
      "text/latex": [
       "$\\displaystyle P(A|B) \\cdot P(B) = P(B|A) \\cdot P(A)$"
      ],
      "text/plain": [
       "<IPython.core.display.Math object>"
      ]
     },
     "metadata": {},
     "output_type": "display_data"
    }
   ],
   "source": [
    "display(Math(r\"P(A|B) \\cdot P(B) = P(B|A) \\cdot P(A)\"))"
   ]
  },
  {
   "cell_type": "markdown",
   "metadata": {},
   "source": [
    "Y finalmente, dividiendo ambos lados por P(B), obtenemos la ley de Bayes:"
   ]
  },
  {
   "cell_type": "code",
   "execution_count": 24,
   "metadata": {},
   "outputs": [
    {
     "data": {
      "text/latex": [
       "$\\displaystyle P(A | B) = \\frac{P(B | A)P(A)}{P(B)}$"
      ],
      "text/plain": [
       "<IPython.core.display.Math object>"
      ]
     },
     "metadata": {},
     "output_type": "display_data"
    }
   ],
   "source": [
    "display(Math(r\"P(A | B) = \\frac{P(B | A)P(A)}{P(B)}\"))"
   ]
  },
  {
   "cell_type": "markdown",
   "metadata": {},
   "source": [
    "## TASK 2\n",
    "\n",
    "### a. ¿Cuál es la probabilidad de P(CEE)?\n",
    "\n",
    "+ Para la moneda justa, la probabilidad de obtener CEE es (1/2)^3 = 1/8.\n",
    "+ Para la primera moneda no justa, la probabilidad de obtener CEE es 0.7 * (1 - 0.7)^2 = 0.7 * 0.09 = 0.063.\n",
    "+ Para la segunda moneda no justa, la probabilidad de obtener CEE es 0.2 * (1 - 0.2)^2 = 0.2 * 0.64 = 0.128."
   ]
  },
  {
   "cell_type": "code",
   "execution_count": 28,
   "metadata": {},
   "outputs": [
    {
     "data": {
      "text/latex": [
       "$\\displaystyle P(CEE) = \\frac{1}{3}*(\\frac{1}{8} + 0.063 + 0.128) = \\frac{1}{3}*(0.316) = 0.1053$"
      ],
      "text/plain": [
       "<IPython.core.display.Math object>"
      ]
     },
     "metadata": {},
     "output_type": "display_data"
    }
   ],
   "source": [
    "display(Math(r\"P(CEE) = \\frac{1}{3}*(\\frac{1}{8} + 0.063 + 0.128) = \\frac{1}{3}*(0.316) = 0.1053\"))"
   ]
  },
  {
   "cell_type": "markdown",
   "metadata": {},
   "source": [
    "### b. Asuma que los tres lanzamientos son CEE, ¿cuál es la probabilidad de que la moneda usada sea la moneda justa?\n",
    "\n",
    "Para esto, usaremps la ley de Bayes. Queremos encontrar P(Justa | CEE), que es igual a P(CEE | Justa) * P(Justa) / P(CEE). "
   ]
  },
  {
   "cell_type": "code",
   "execution_count": 27,
   "metadata": {},
   "outputs": [
    {
     "data": {
      "text/latex": [
       "$\\displaystyle P(\\text{Justa | CEE}) = \\frac{P(\\text{CEE | Justa}) \\cdot P(\\text{Justa})}{P(\\text{CEE})} = \\frac{\\frac{1}{8} \\cdot \\frac{1}{3}}{0.1053} = 0.39569$"
      ],
      "text/plain": [
       "<IPython.core.display.Math object>"
      ]
     },
     "metadata": {},
     "output_type": "display_data"
    }
   ],
   "source": [
    "display(Math(r\"P(\\text{Justa | CEE}) = \\frac{P(\\text{CEE | Justa}) \\cdot P(\\text{Justa})}{P(\\text{CEE})} = \\frac{\\frac{1}{8} \\cdot \\frac{1}{3}}{0.1053} = 0.39569\"))"
   ]
  },
  {
   "cell_type": "markdown",
   "metadata": {},
   "source": [
    "## Task 3\n",
    "Como la llegada de los autobuses sigue la distribucion unifrome en el intervalo de 0 a 30, la probabilidad de que un evento ocurra en un subintervalo, entonces la probabilidad de ese subintervalo es la longitud de este\n",
    "\n",
    "La probabilidad de que el autobús llegue en los próximos 10 minutos (un intervalo de longitud 10) dado que el autobús llega en algún momento en los próximos 30 minutos (un espacio de muestreo de longitud 30) es:\n",
    "\n",
    "P(Autobús en los próximos 10 minutos) = Longitud del intervalo / Longitud del espacio de muestreo\n",
    "\n",
    "= 10 / 30\n",
    "\n",
    "= 1 / 3\n",
    "\n",
    "Por lo tanto, la probabilidad de que el autobús llegue en los próximos 10 minutos es 1/3 o aproximadamente 0.333."
   ]
  },
  {
   "cell_type": "code",
   "execution_count": 30,
   "metadata": {},
   "outputs": [
    {
     "data": {
      "image/png": "[encoded data removed]",
      "text/plain": [
       "<Figure size 640x480 with 1 Axes>"
      ]
     },
     "metadata": {},
     "output_type": "display_data"
    }
   ],
   "source": [
    "import matplotlib.pyplot as plt\n",
    "import numpy as np\n",
    "\n",
    "# Define el rango de valores\n",
    "x = np.linspace(0, 30, 1000)\n",
    "\n",
    "# Define la función de densidad de probabilidad, que es constante\n",
    "# para una distribución uniforme\n",
    "pdf = [1/30 for _ in x]\n",
    "\n",
    "# Dibuja la función de densidad de probabilidad\n",
    "plt.plot(x, pdf, label='Densidad de probabilidad')\n",
    "\n",
    "# Resalta el intervalo de 10 minutos\n",
    "x_fill = np.linspace(0, 10, 100)\n",
    "y_fill = [1/30 for _ in x_fill]\n",
    "plt.fill_between(x_fill, y_fill, color='gray', alpha=0.5)\n",
    "\n",
    "plt.title('Distribución de la llegada del autobús')\n",
    "plt.xlabel('Minutos desde ahora')\n",
    "plt.ylabel('Probabilidad por minuto')\n",
    "plt.legend()\n",
    "plt.show()\n",
    "\n"
   ]
  }
 ],
 "metadata": {
  "kernelspec": {
   "display_name": "lab2",
   "language": "python",
   "name": "python3"
  },
  "language_info": {
   "codemirror_mode": {
    "name": "ipython",
    "version": 3
   },
   "file_extension": ".py",
   "mimetype": "text/x-python",
   "name": "python",
   "nbconvert_exporter": "python",
   "pygments_lexer": "ipython3",
   "version": "3.11.4"
  },
  "orig_nbformat": 4
 },
 "nbformat": 4,
 "nbformat_minor": 2
}
